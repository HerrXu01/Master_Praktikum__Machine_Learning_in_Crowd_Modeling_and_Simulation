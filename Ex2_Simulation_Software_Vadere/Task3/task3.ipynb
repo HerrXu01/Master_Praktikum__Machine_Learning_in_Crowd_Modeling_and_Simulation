{
 "cells": [
  {
   "cell_type": "markdown",
   "metadata": {},
   "source": [
    "# Import Packages"
   ]
  },
  {
   "cell_type": "code",
   "execution_count": 19,
   "metadata": {},
   "outputs": [],
   "source": [
    "import os\n",
    "import shutil\n",
    "\n",
    "from scenariofile_add_ped import *"
   ]
  },
  {
   "cell_type": "markdown",
   "metadata": {},
   "source": [
    "# Loading file and reading the necessary attributes"
   ]
  },
  {
   "cell_type": "code",
   "execution_count": 20,
   "metadata": {},
   "outputs": [],
   "source": [
    "dest_filename = './scenarios/scenario_6_mod.scenario'                           \n",
    "src_filename = './scenarios/scenario_6.scenario'                        #Give the reference scenario file\n",
    "\n",
    "shutil.copy(src_filename,dest_filename)\n",
    "add_pedestrian = Scenariofile.read_scenariofile(dest_filename)\n",
    "add_pedestrian['name'] = 'scenario_6_mod'                               #Changing the scenaio name\n",
    "attribute_pedestrian =  add_pedestrian['scenario']['topography']['attributesPedestrian']            \n",
    "target_id = add_pedestrian['scenario']['topography']['targets'][0]['id']"
   ]
  },
  {
   "cell_type": "markdown",
   "metadata": {},
   "source": [
    "# Adding pedestrian attributes into the variable"
   ]
  },
  {
   "cell_type": "code",
   "execution_count": 21,
   "metadata": {},
   "outputs": [],
   "source": [
    "id = {\"id\":4}                                   #Giving the target ID for pedestrian\n",
    "id.update(attribute_pedestrian)                 #Inheriting the attribute pedestrian dictionary \n",
    "attributes = {\"attributes\" : id}\n",
    "attributes.update(Scenariofile.fix_attributes(target_id))\n",
    "\n",
    "dynamic_elem = []\n",
    "dynamic_elem.append(attributes)\n",
    "\n",
    "add_pedestrian['scenario']['topography']['dynamicElements'] = dynamic_elem"
   ]
  },
  {
   "cell_type": "markdown",
   "metadata": {},
   "source": [
    "# Writing data to new scenario file "
   ]
  },
  {
   "cell_type": "code",
   "execution_count": 22,
   "metadata": {},
   "outputs": [],
   "source": [
    "Scenariofile.write_scenariofile(dest_filename,add_pedestrian)\n",
    "\n",
    "Scenariofile.format_scenariofile(dest_filename)"
   ]
  },
  {
   "cell_type": "markdown",
   "metadata": {},
   "source": [
    "# Running the Vadere console"
   ]
  },
  {
   "cell_type": "code",
   "execution_count": 23,
   "metadata": {},
   "outputs": [
    {
     "data": {
      "text/plain": [
       "0"
      ]
     },
     "execution_count": 23,
     "metadata": {},
     "output_type": "execute_result"
    }
   ],
   "source": [
    "os.system('java -jar vadere-console.jar scenario-run --output-dir ./output --scenario-file ./scenarios/scenario_6_mod.scenario')"
   ]
  }
 ],
 "metadata": {
  "kernelspec": {
   "display_name": "base",
   "language": "python",
   "name": "python3"
  },
  "language_info": {
   "codemirror_mode": {
    "name": "ipython",
    "version": 3
   },
   "file_extension": ".py",
   "mimetype": "text/x-python",
   "name": "python",
   "nbconvert_exporter": "python",
   "pygments_lexer": "ipython3",
   "version": "3.9.13"
  }
 },
 "nbformat": 4,
 "nbformat_minor": 2
}
