{
 "cells": [
  {
   "cell_type": "code",
   "execution_count": 381,
   "id": "61f13733",
   "metadata": {},
   "outputs": [
    {
     "ename": "ImportError",
     "evalue": "cannot import name 'phase_portrait' from 'common_functions' (C:\\Users\\91901\\OneDrive\\Desktop\\Task_3\\common_functions.py)",
     "output_type": "error",
     "traceback": [
      "\u001b[1;31m---------------------------------------------------------------------------\u001b[0m",
      "\u001b[1;31mImportError\u001b[0m                               Traceback (most recent call last)",
      "Cell \u001b[1;32mIn[381], line 7\u001b[0m\n\u001b[0;32m      5\u001b[0m \u001b[38;5;28;01mfrom\u001b[39;00m \u001b[38;5;21;01mscipy\u001b[39;00m\u001b[38;5;21;01m.\u001b[39;00m\u001b[38;5;21;01mspatial\u001b[39;00m\u001b[38;5;21;01m.\u001b[39;00m\u001b[38;5;21;01mdistance\u001b[39;00m \u001b[38;5;28;01mimport\u001b[39;00m cdist\n\u001b[0;32m      6\u001b[0m \u001b[38;5;28;01mfrom\u001b[39;00m \u001b[38;5;21;01mscipy\u001b[39;00m\u001b[38;5;21;01m.\u001b[39;00m\u001b[38;5;21;01mintegrate\u001b[39;00m \u001b[38;5;28;01mimport\u001b[39;00m solve_ivp\n\u001b[1;32m----> 7\u001b[0m \u001b[38;5;28;01mfrom\u001b[39;00m \u001b[38;5;21;01mcommon_functions\u001b[39;00m \u001b[38;5;28;01mimport\u001b[39;00m coordinate_extractor, mean_squared_error, phase_portrait\n",
      "\u001b[1;31mImportError\u001b[0m: cannot import name 'phase_portrait' from 'common_functions' (C:\\Users\\91901\\OneDrive\\Desktop\\Task_3\\common_functions.py)"
     ]
    }
   ],
   "source": [
    "import numpy as np\n",
    "import pandas as pd\n",
    "import matplotlib.pyplot as plt\n",
    "import math\n",
    "from scipy.spatial.distance import cdist\n",
    "from scipy.integrate import solve_ivp\n",
    "from common_functions import coordinate_extractor, mean_squared_error, phase_portrait"
   ]
  },
  {
   "cell_type": "code",
   "execution_count": 369,
   "id": "72c82767",
   "metadata": {},
   "outputs": [],
   "source": [
    "matrix_t0 = coordinate_extractor(\"linear_vectorfield_data_x0.txt\")\n",
    "matrix_t1 = coordinate_extractor(\"linear_vectorfield_data_x1.txt\")"
   ]
  },
  {
   "cell_type": "code",
   "execution_count": 370,
   "id": "5b70232e",
   "metadata": {},
   "outputs": [],
   "source": [
    "def rbf_differential_calculator(t, y, centers, eps, C):\n",
    "    \n",
    "    \"\"\"\n",
    "    \n",
    "    Returns vector field of a single point (rbf)\n",
    "    \n",
    "    Args:\n",
    "    \n",
    "        - t (float): time (for solve_ivp)\n",
    "        - y (float): single point\n",
    "        - centers (np.array): all centers\n",
    "        - eps (float): radius of gaussians\n",
    "        - C (numpy.ndarray): coefficient matrix, found with least squares\n",
    "        \n",
    "    Returns:\n",
    "        \n",
    "        - numpy.ndarray - The derivative of phi with respect to time.\n",
    "    \"\"\"\n",
    "    \n",
    "    y = y.reshape(1, y.shape[-1])\n",
    "    phi = np.exp(-cdist(y, centers) ** 2 / eps ** 2)\n",
    "    return phi @ C"
   ]
  },
  {
   "cell_type": "code",
   "execution_count": 371,
   "id": "93089389",
   "metadata": {},
   "outputs": [],
   "source": [
    "def vector_field(dt, x0, x1):\n",
    "    \"\"\"\n",
    "    \n",
    "    Estimates the vector field based on the given time step.\n",
    "\n",
    "    Args:\n",
    "        - dt (float): Time step.\n",
    "        - x0 (numpy.ndarray): Initial state.\n",
    "        - x1 (numpy.ndarray): Target state.\n",
    "\n",
    "    Returns:\n",
    "        - numpy.ndarray: Estimated vector field.\n",
    "        \n",
    "    \"\"\"\n",
    "    \n",
    "    field = (x1-x0)/dt\n",
    "\n",
    "    return field"
   ]
  },
  {
   "cell_type": "code",
   "execution_count": 372,
   "id": "e808ec0c",
   "metadata": {},
   "outputs": [],
   "source": [
    "def approx_nonlin_func(x0, v, n_bases, eps, centers):\n",
    "    \"\"\"\n",
    "    \n",
    "    Approximates a nonlinear function using python supported LSTSQ library.\n",
    "\n",
    "    Args:\n",
    "    \n",
    "        - x0 (numpy.ndarray): Input data points.\n",
    "        - v (numpy.ndarray): Output values.\n",
    "        - n_bases (int): No. of RBF clusters\n",
    "        - eps (float): Width of the basis functions.\n",
    "        - centers (numpy.ndarray): Chosen centers of the basis functions.\n",
    "\n",
    "    Returns:\n",
    "    \n",
    "        - sol (numpy.ndarray): Coefficient matrix.\n",
    "        - residuals (numpy.ndarray): Residuals of the least squares solution.\n",
    "        - eps (float): Width of the basis functions.\n",
    "        - differentials (numpy.ndarray): Evaluated basis functions.\n",
    "\n",
    "    \"\"\"\n",
    "   # Evaluate the basis functions on the whole data\n",
    "   # cdist is used for calculating differences\n",
    "    differentials = np.exp(-cdist(x0, centers)**2 / eps**2)\n",
    "    sol, residuals, _, _ = np.linalg.lstsq(a=differentials, b=v, rcond=1e-5)\n",
    "    \n",
    "    return sol, residuals, eps, differentials"
   ]
  },
  {
   "cell_type": "code",
   "execution_count": 373,
   "id": "81646c03",
   "metadata": {},
   "outputs": [],
   "source": [
    "def trajectory(x0, x1, approx_func, args, find_best_dt, end_time, plot=False):\n",
    "    \"\"\"\n",
    "    \n",
    "    Solves the trajectory using the solve_ivp under SciPy.\n",
    "\n",
    "    Args:\n",
    "        \n",
    "        - x0 (numpy.ndarray): Initial state.\n",
    "        - x1 (numpy.ndarray): Target state.\n",
    "        - approx_func (function): Approximation function.\n",
    "        - args (list): Additional arguments for the approximation function.\n",
    "        - find_best_dt (bool): Whether to find the best time step.\n",
    "        - end_time (float): End time for solving the trajectory.\n",
    "        - plot (bool): Whether to plot the results.\n",
    "\n",
    "    Returns:\n",
    "        \n",
    "        - tuple: Predicted trajectory, best time step (if applicable), best MSE (if applicable).\n",
    "        \n",
    "    \"\"\"\n",
    "    # Variable initialization\n",
    "    best_dt = -1\n",
    "    best_mse = math.inf\n",
    "    pred_matrix_t1 = []\n",
    "    t_eval = np.linspace(0, end_time, 100)\n",
    "    sols = []\n",
    "    \n",
    "    for i in range(len(x0)):\n",
    "        sol = solve_ivp(approx_func, [0, end_time], x0[i], args=args, t_eval=t_eval)  \n",
    "        pred_matrix_t1.append([sol.y[0, -1], sol.y[1, -1]])  # storing final solutions\n",
    "        \n",
    "        if find_best_dt:\n",
    "            # to find best dt then all the different snapshots in time have to be saved\n",
    "            sols.append(sol.y)\n",
    "        # plot the trajectory (orange) and ground truth end point (blue)\n",
    "        \n",
    "        if plot:\n",
    "            plt.scatter(x1[i, 0], x1[i, 1], c='blue', s=10)\n",
    "            plt.scatter(sol.y[0, :], sol.y[1, :], c='orange', s=4)\n",
    "            \n",
    "    if find_best_dt:\n",
    "        # try all the different moments in time, check if it is the best time\n",
    "        for i in range(len(t_eval)):\n",
    "            pred = [[sols[j][0][i], sols[j][1][i]] for j in range(len(sols))]\n",
    "            mse = np.mean(np.linalg.norm(pred - x1, axis=1)**2)\n",
    "            # if mse found is best yet, update the variables\n",
    "            if mse < best_mse:\n",
    "                best_mse = mse\n",
    "                best_dt = t_eval[i]\n",
    "    if plot:\n",
    "        plt.figure(figsize=(14,14))\n",
    "        plt.show()\n",
    "    return x1_pred, best_dt, best_mse\n"
   ]
  },
  {
   "cell_type": "code",
   "execution_count": 374,
   "id": "083e3009",
   "metadata": {},
   "outputs": [],
   "source": [
    "def optimal_rbf_configuration(x0, x1, dt=0.1, end_time=0.5):\n",
    "    \"\"\"\n",
    "    \n",
    "    Finds the best configuration for Radial Basis Function (RBF) approximation.\n",
    "\n",
    "    Args:\n",
    "        \n",
    "        - x0 (numpy.ndarray): Initial state.\n",
    "        - x1 (numpy.ndarray): Final state.\n",
    "        - dt (float): Time step for trajectory integration (default: 0.1).\n",
    "        - end_time (float): End time for trajectory integration (default: 0.5).\n",
    "\n",
    "    Returns:\n",
    "        \n",
    "        - Tuple: (final_best_mse, final_best_eps, final_best_n_bases, final_best_dt, final_centers)\n",
    "        \n",
    "    \"\"\"\n",
    "    \n",
    "    final_best_mse, final_best_eps, final_best_n_bases, final_best_dt = math.inf, -1, -1, -1  # initialize variables\n",
    "    n_bases_trials = [int(i) for i in np.linspace(100, 1001, 20)]  # define search space for n_bases\n",
    "    for n_bases in n_bases_trials:\n",
    "        centers = x0[np.random.choice(range(x0.shape[0]), size=n_bases)] \n",
    "        for eps in (0.3, 0.5, 0.7, 1.0, 5.0, 10.0, 20.0):\n",
    "            v = vector_field(dt, x0, x1)  # estimate vector field\n",
    "            C, res, eps, phi = approx_nonlin_func(x0, v, n_bases=n_bases, eps=eps, centers=centers)\n",
    "            x1_pred, best_dt, best_mse = trajectory(x0, x1, rbf_differential_calculator, find_best_dt=True, args=[centers, eps, C], end_time=end_time, plot=False)\n",
    "            if final_best_mse > best_mse:  # if new mse is better then update all return variables\n",
    "                final_best_mse, final_best_eps, final_best_n_bases, final_best_dt, final_centers  = best_mse, eps, n_bases, best_dt, centers\n",
    "    print(f\"Best configuration: eps = {final_best_eps}, n_bases = {final_best_n_bases}, and dt = {final_best_dt} gives MSE = {final_best_mse}\")\n",
    "    return final_best_mse, final_best_eps, final_best_n_bases,final_best_dt,final_centers"
   ]
  },
  {
   "cell_type": "code",
   "execution_count": 375,
   "id": "be22e8f2",
   "metadata": {},
   "outputs": [
    {
     "name": "stdout",
     "output_type": "stream",
     "text": [
      "Best configuration: eps = 0.3, n_bases = 669, and dt = 0.10606060606060606 gives MSE = 2.5782151020803094e-06\n"
     ]
    }
   ],
   "source": [
    " # Step 1: Read vector field data\n",
    "x0 = matrix_t0\n",
    "x1 = matrix_t1\n",
    "\n",
    "\n",
    "# Step 2: Find the best RBF configuration\n",
    "final_best_mse, eps, n_bases, final_best_dt, centers = optimal_rbf_configuration(x0, x1)\n",
    "\n",
    "# Step 3: Estimate vector field and approximate non-linear function\n",
    "dt = 0.1\n",
    "v = vector_field(dt, x0, x1)\n",
    "C, res, eps, phi = approx_nonlin_func(x0, v, n_bases=n_bases, eps=eps, centers=centers)\n",
    "\n",
    "# Step 4: Solve trajectory using the best configuration and plot results\n",
    "end_time = final_best_dt\n",
    "x1_pred, _, _ = trajectory(x0, x1, rbf_differential_calculator, find_best_dt=False, end_time=end_time, args=[centers, eps, C], plot=False)"
   ]
  },
  {
   "cell_type": "code",
   "execution_count": 378,
   "id": "62e8d553",
   "metadata": {},
   "outputs": [
    {
     "ename": "NameError",
     "evalue": "name 'phase_portrait' is not defined",
     "output_type": "error",
     "traceback": [
      "\u001b[1;31m---------------------------------------------------------------------------\u001b[0m",
      "\u001b[1;31mNameError\u001b[0m                                 Traceback (most recent call last)",
      "Cell \u001b[1;32mIn[378], line 1\u001b[0m\n\u001b[1;32m----> 1\u001b[0m \u001b[43mphase_portrait\u001b[49m(C, \u001b[38;5;124m\"\u001b[39m\u001b[38;5;124mPhase Portrait - Non linear System\u001b[39m\u001b[38;5;124m\"\u001b[39m)\n",
      "\u001b[1;31mNameError\u001b[0m: name 'phase_portrait' is not defined"
     ]
    }
   ],
   "source": [
    "phase_portrait(C, \"Phase Portrait - Non linear System\")"
   ]
  },
  {
   "cell_type": "code",
   "execution_count": null,
   "id": "8bc8ecfb",
   "metadata": {},
   "outputs": [],
   "source": []
  }
 ],
 "metadata": {
  "kernelspec": {
   "display_name": "Python 3 (ipykernel)",
   "language": "python",
   "name": "python3"
  },
  "language_info": {
   "codemirror_mode": {
    "name": "ipython",
    "version": 3
   },
   "file_extension": ".py",
   "mimetype": "text/x-python",
   "name": "python",
   "nbconvert_exporter": "python",
   "pygments_lexer": "ipython3",
   "version": "3.9.18"
  }
 },
 "nbformat": 4,
 "nbformat_minor": 5
}
